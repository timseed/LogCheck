{
 "cells": [
  {
   "cell_type": "code",
   "execution_count": 44,
   "metadata": {},
   "outputs": [],
   "source": [
    "import base64\n",
    "\n",
    "with open('output.png','rb') as img:\n",
    "    img_data=img.read()\n",
    "\n",
    "#img_data starts off as being bytes\n",
    "img_str=base64.encodebytes(img_data).decode('utf-8').replace('\\n','')\n",
    "\n",
    "# Generate a Web Page with the Embedded Image in it\n",
    "\n",
    "with open(\"h.html\",\"wt\") as tml:\n",
    "    tml.write(\"\"\"\n",
    "    <html>\n",
    "    <head>Test</head>\n",
    "    <page>\"\"\")\n",
    "    tml.write(\"<img src=\\\"data:image/png;base64,{}\\\">\".format(img_str))\n",
    "    tml.write(\"</page></html>\")\n",
    "    tml.close()\n",
    "    \n"
   ]
  },
  {
   "cell_type": "code",
   "execution_count": null,
   "metadata": {},
   "outputs": [],
   "source": []
  }
 ],
 "metadata": {
  "kernelspec": {
   "display_name": "Python 3",
   "language": "python",
   "name": "python3"
  },
  "language_info": {
   "codemirror_mode": {
    "name": "ipython",
    "version": 3
   },
   "file_extension": ".py",
   "mimetype": "text/x-python",
   "name": "python",
   "nbconvert_exporter": "python",
   "pygments_lexer": "ipython3",
   "version": "3.6.0"
  }
 },
 "nbformat": 4,
 "nbformat_minor": 2
}
